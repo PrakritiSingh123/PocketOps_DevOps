{
  "nbformat": 4,
  "nbformat_minor": 0,
  "metadata": {
    "colab": {
      "provenance": [],
      "authorship_tag": "ABX9TyMKqVkBmoc7bZQEwRCpiWK7",
      "include_colab_link": true
    },
    "kernelspec": {
      "name": "python3",
      "display_name": "Python 3"
    },
    "language_info": {
      "name": "python"
    }
  },
  "cells": [
    {
      "cell_type": "markdown",
      "metadata": {
        "id": "view-in-github",
        "colab_type": "text"
      },
      "source": [
        "<a href=\"https://colab.research.google.com/github/PrakritiSingh123/PocketOps_DevOps/blob/pocketops-dev%2F27-05-2022/resume_screening_pdf.ipynb\" target=\"_parent\"><img src=\"https://colab.research.google.com/assets/colab-badge.svg\" alt=\"Open In Colab\"/></a>"
      ]
    },
    {
      "cell_type": "code",
      "execution_count": null,
      "metadata": {
        "colab": {
          "base_uri": "https://localhost:8080/"
        },
        "id": "y8hvNA7pRTbS",
        "outputId": "4ac186dd-28af-4b5f-a6a2-d56a6a90a32c"
      },
      "outputs": [
        {
          "output_type": "stream",
          "name": "stdout",
          "text": [
            "Looking in indexes: https://pypi.org/simple, https://us-python.pkg.dev/colab-wheels/public/simple/\n",
            "Collecting PyPDF2\n",
            "  Downloading pypdf2-3.0.1-py3-none-any.whl (232 kB)\n",
            "\u001b[2K     \u001b[90m━━━━━━━━━━━━━━━━━━━━━━━━━━━━━━━━━━━━━━━\u001b[0m \u001b[32m232.6/232.6 kB\u001b[0m \u001b[31m4.7 MB/s\u001b[0m eta \u001b[36m0:00:00\u001b[0m\n",
            "\u001b[?25hRequirement already satisfied: typing_extensions>=3.10.0.0 in /usr/local/lib/python3.9/dist-packages (from PyPDF2) (4.5.0)\n",
            "Installing collected packages: PyPDF2\n",
            "Successfully installed PyPDF2-3.0.1\n",
            "Looking in indexes: https://pypi.org/simple, https://us-python.pkg.dev/colab-wheels/public/simple/\n",
            "Requirement already satisfied: spacy in /usr/local/lib/python3.9/dist-packages (3.5.1)\n",
            "Collecting spacy\n",
            "  Downloading spacy-3.5.2-cp39-cp39-manylinux_2_17_x86_64.manylinux2014_x86_64.whl (6.6 MB)\n",
            "\u001b[2K     \u001b[90m━━━━━━━━━━━━━━━━━━━━━━━━━━━━━━━━━━━━━━━━\u001b[0m \u001b[32m6.6/6.6 MB\u001b[0m \u001b[31m35.1 MB/s\u001b[0m eta \u001b[36m0:00:00\u001b[0m\n",
            "\u001b[?25hRequirement already satisfied: spacy-legacy<3.1.0,>=3.0.11 in /usr/local/lib/python3.9/dist-packages (from spacy) (3.0.12)\n",
            "Requirement already satisfied: thinc<8.2.0,>=8.1.8 in /usr/local/lib/python3.9/dist-packages (from spacy) (8.1.9)\n",
            "Requirement already satisfied: pydantic!=1.8,!=1.8.1,<1.11.0,>=1.7.4 in /usr/local/lib/python3.9/dist-packages (from spacy) (1.10.7)\n",
            "Requirement already satisfied: setuptools in /usr/local/lib/python3.9/dist-packages (from spacy) (67.6.1)\n",
            "Requirement already satisfied: wasabi<1.2.0,>=0.9.1 in /usr/local/lib/python3.9/dist-packages (from spacy) (1.1.1)\n",
            "Requirement already satisfied: numpy>=1.15.0 in /usr/local/lib/python3.9/dist-packages (from spacy) (1.22.4)\n",
            "Requirement already satisfied: catalogue<2.1.0,>=2.0.6 in /usr/local/lib/python3.9/dist-packages (from spacy) (2.0.8)\n",
            "Requirement already satisfied: jinja2 in /usr/local/lib/python3.9/dist-packages (from spacy) (3.1.2)\n",
            "Requirement already satisfied: smart-open<7.0.0,>=5.2.1 in /usr/local/lib/python3.9/dist-packages (from spacy) (6.3.0)\n",
            "Requirement already satisfied: murmurhash<1.1.0,>=0.28.0 in /usr/local/lib/python3.9/dist-packages (from spacy) (1.0.9)\n",
            "Requirement already satisfied: tqdm<5.0.0,>=4.38.0 in /usr/local/lib/python3.9/dist-packages (from spacy) (4.65.0)\n",
            "Requirement already satisfied: preshed<3.1.0,>=3.0.2 in /usr/local/lib/python3.9/dist-packages (from spacy) (3.0.8)\n",
            "Requirement already satisfied: packaging>=20.0 in /usr/local/lib/python3.9/dist-packages (from spacy) (23.0)\n",
            "Requirement already satisfied: typer<0.8.0,>=0.3.0 in /usr/local/lib/python3.9/dist-packages (from spacy) (0.7.0)\n",
            "Requirement already satisfied: spacy-loggers<2.0.0,>=1.0.0 in /usr/local/lib/python3.9/dist-packages (from spacy) (1.0.4)\n",
            "Requirement already satisfied: srsly<3.0.0,>=2.4.3 in /usr/local/lib/python3.9/dist-packages (from spacy) (2.4.6)\n",
            "Requirement already satisfied: requests<3.0.0,>=2.13.0 in /usr/local/lib/python3.9/dist-packages (from spacy) (2.27.1)\n",
            "Requirement already satisfied: pathy>=0.10.0 in /usr/local/lib/python3.9/dist-packages (from spacy) (0.10.1)\n",
            "Requirement already satisfied: langcodes<4.0.0,>=3.2.0 in /usr/local/lib/python3.9/dist-packages (from spacy) (3.3.0)\n",
            "Requirement already satisfied: cymem<2.1.0,>=2.0.2 in /usr/local/lib/python3.9/dist-packages (from spacy) (2.0.7)\n",
            "Requirement already satisfied: typing-extensions>=4.2.0 in /usr/local/lib/python3.9/dist-packages (from pydantic!=1.8,!=1.8.1,<1.11.0,>=1.7.4->spacy) (4.5.0)\n",
            "Requirement already satisfied: idna<4,>=2.5 in /usr/local/lib/python3.9/dist-packages (from requests<3.0.0,>=2.13.0->spacy) (3.4)\n",
            "Requirement already satisfied: urllib3<1.27,>=1.21.1 in /usr/local/lib/python3.9/dist-packages (from requests<3.0.0,>=2.13.0->spacy) (1.26.15)\n",
            "Requirement already satisfied: certifi>=2017.4.17 in /usr/local/lib/python3.9/dist-packages (from requests<3.0.0,>=2.13.0->spacy) (2022.12.7)\n",
            "Requirement already satisfied: charset-normalizer~=2.0.0 in /usr/local/lib/python3.9/dist-packages (from requests<3.0.0,>=2.13.0->spacy) (2.0.12)\n",
            "Requirement already satisfied: blis<0.8.0,>=0.7.8 in /usr/local/lib/python3.9/dist-packages (from thinc<8.2.0,>=8.1.8->spacy) (0.7.9)\n",
            "Requirement already satisfied: confection<1.0.0,>=0.0.1 in /usr/local/lib/python3.9/dist-packages (from thinc<8.2.0,>=8.1.8->spacy) (0.0.4)\n",
            "Requirement already satisfied: click<9.0.0,>=7.1.1 in /usr/local/lib/python3.9/dist-packages (from typer<0.8.0,>=0.3.0->spacy) (8.1.3)\n",
            "Requirement already satisfied: MarkupSafe>=2.0 in /usr/local/lib/python3.9/dist-packages (from jinja2->spacy) (2.1.2)\n",
            "Installing collected packages: spacy\n",
            "  Attempting uninstall: spacy\n",
            "    Found existing installation: spacy 3.5.1\n",
            "    Uninstalling spacy-3.5.1:\n",
            "      Successfully uninstalled spacy-3.5.1\n",
            "Successfully installed spacy-3.5.2\n",
            "2023-04-12 18:19:24.418584: I tensorflow/core/platform/cpu_feature_guard.cc:182] This TensorFlow binary is optimized to use available CPU instructions in performance-critical operations.\n",
            "To enable the following instructions: AVX2 FMA, in other operations, rebuild TensorFlow with the appropriate compiler flags.\n",
            "2023-04-12 18:19:25.934896: W tensorflow/compiler/tf2tensorrt/utils/py_utils.cc:38] TF-TRT Warning: Could not find TensorRT\n",
            "Looking in indexes: https://pypi.org/simple, https://us-python.pkg.dev/colab-wheels/public/simple/\n",
            "Collecting en-core-web-sm==3.5.0\n",
            "  Downloading https://github.com/explosion/spacy-models/releases/download/en_core_web_sm-3.5.0/en_core_web_sm-3.5.0-py3-none-any.whl (12.8 MB)\n",
            "\u001b[2K     \u001b[90m━━━━━━━━━━━━━━━━━━━━━━━━━━━━━━━━━━━━━━━━\u001b[0m \u001b[32m12.8/12.8 MB\u001b[0m \u001b[31m64.0 MB/s\u001b[0m eta \u001b[36m0:00:00\u001b[0m\n",
            "\u001b[?25hRequirement already satisfied: spacy<3.6.0,>=3.5.0 in /usr/local/lib/python3.9/dist-packages (from en-core-web-sm==3.5.0) (3.5.2)\n",
            "Requirement already satisfied: pathy>=0.10.0 in /usr/local/lib/python3.9/dist-packages (from spacy<3.6.0,>=3.5.0->en-core-web-sm==3.5.0) (0.10.1)\n",
            "Requirement already satisfied: preshed<3.1.0,>=3.0.2 in /usr/local/lib/python3.9/dist-packages (from spacy<3.6.0,>=3.5.0->en-core-web-sm==3.5.0) (3.0.8)\n",
            "Requirement already satisfied: wasabi<1.2.0,>=0.9.1 in /usr/local/lib/python3.9/dist-packages (from spacy<3.6.0,>=3.5.0->en-core-web-sm==3.5.0) (1.1.1)\n",
            "Requirement already satisfied: typer<0.8.0,>=0.3.0 in /usr/local/lib/python3.9/dist-packages (from spacy<3.6.0,>=3.5.0->en-core-web-sm==3.5.0) (0.7.0)\n",
            "Requirement already satisfied: jinja2 in /usr/local/lib/python3.9/dist-packages (from spacy<3.6.0,>=3.5.0->en-core-web-sm==3.5.0) (3.1.2)\n",
            "Requirement already satisfied: tqdm<5.0.0,>=4.38.0 in /usr/local/lib/python3.9/dist-packages (from spacy<3.6.0,>=3.5.0->en-core-web-sm==3.5.0) (4.65.0)\n",
            "Requirement already satisfied: spacy-legacy<3.1.0,>=3.0.11 in /usr/local/lib/python3.9/dist-packages (from spacy<3.6.0,>=3.5.0->en-core-web-sm==3.5.0) (3.0.12)\n",
            "Requirement already satisfied: srsly<3.0.0,>=2.4.3 in /usr/local/lib/python3.9/dist-packages (from spacy<3.6.0,>=3.5.0->en-core-web-sm==3.5.0) (2.4.6)\n",
            "Requirement already satisfied: setuptools in /usr/local/lib/python3.9/dist-packages (from spacy<3.6.0,>=3.5.0->en-core-web-sm==3.5.0) (67.6.1)\n",
            "Requirement already satisfied: packaging>=20.0 in /usr/local/lib/python3.9/dist-packages (from spacy<3.6.0,>=3.5.0->en-core-web-sm==3.5.0) (23.0)\n",
            "Requirement already satisfied: murmurhash<1.1.0,>=0.28.0 in /usr/local/lib/python3.9/dist-packages (from spacy<3.6.0,>=3.5.0->en-core-web-sm==3.5.0) (1.0.9)\n",
            "Requirement already satisfied: thinc<8.2.0,>=8.1.8 in /usr/local/lib/python3.9/dist-packages (from spacy<3.6.0,>=3.5.0->en-core-web-sm==3.5.0) (8.1.9)\n",
            "Requirement already satisfied: numpy>=1.15.0 in /usr/local/lib/python3.9/dist-packages (from spacy<3.6.0,>=3.5.0->en-core-web-sm==3.5.0) (1.22.4)\n",
            "Requirement already satisfied: catalogue<2.1.0,>=2.0.6 in /usr/local/lib/python3.9/dist-packages (from spacy<3.6.0,>=3.5.0->en-core-web-sm==3.5.0) (2.0.8)\n",
            "Requirement already satisfied: spacy-loggers<2.0.0,>=1.0.0 in /usr/local/lib/python3.9/dist-packages (from spacy<3.6.0,>=3.5.0->en-core-web-sm==3.5.0) (1.0.4)\n",
            "Requirement already satisfied: pydantic!=1.8,!=1.8.1,<1.11.0,>=1.7.4 in /usr/local/lib/python3.9/dist-packages (from spacy<3.6.0,>=3.5.0->en-core-web-sm==3.5.0) (1.10.7)\n",
            "Requirement already satisfied: cymem<2.1.0,>=2.0.2 in /usr/local/lib/python3.9/dist-packages (from spacy<3.6.0,>=3.5.0->en-core-web-sm==3.5.0) (2.0.7)\n",
            "Requirement already satisfied: smart-open<7.0.0,>=5.2.1 in /usr/local/lib/python3.9/dist-packages (from spacy<3.6.0,>=3.5.0->en-core-web-sm==3.5.0) (6.3.0)\n",
            "Requirement already satisfied: langcodes<4.0.0,>=3.2.0 in /usr/local/lib/python3.9/dist-packages (from spacy<3.6.0,>=3.5.0->en-core-web-sm==3.5.0) (3.3.0)\n",
            "Requirement already satisfied: requests<3.0.0,>=2.13.0 in /usr/local/lib/python3.9/dist-packages (from spacy<3.6.0,>=3.5.0->en-core-web-sm==3.5.0) (2.27.1)\n",
            "Requirement already satisfied: typing-extensions>=4.2.0 in /usr/local/lib/python3.9/dist-packages (from pydantic!=1.8,!=1.8.1,<1.11.0,>=1.7.4->spacy<3.6.0,>=3.5.0->en-core-web-sm==3.5.0) (4.5.0)\n",
            "Requirement already satisfied: certifi>=2017.4.17 in /usr/local/lib/python3.9/dist-packages (from requests<3.0.0,>=2.13.0->spacy<3.6.0,>=3.5.0->en-core-web-sm==3.5.0) (2022.12.7)\n",
            "Requirement already satisfied: idna<4,>=2.5 in /usr/local/lib/python3.9/dist-packages (from requests<3.0.0,>=2.13.0->spacy<3.6.0,>=3.5.0->en-core-web-sm==3.5.0) (3.4)\n",
            "Requirement already satisfied: charset-normalizer~=2.0.0 in /usr/local/lib/python3.9/dist-packages (from requests<3.0.0,>=2.13.0->spacy<3.6.0,>=3.5.0->en-core-web-sm==3.5.0) (2.0.12)\n",
            "Requirement already satisfied: urllib3<1.27,>=1.21.1 in /usr/local/lib/python3.9/dist-packages (from requests<3.0.0,>=2.13.0->spacy<3.6.0,>=3.5.0->en-core-web-sm==3.5.0) (1.26.15)\n",
            "Requirement already satisfied: blis<0.8.0,>=0.7.8 in /usr/local/lib/python3.9/dist-packages (from thinc<8.2.0,>=8.1.8->spacy<3.6.0,>=3.5.0->en-core-web-sm==3.5.0) (0.7.9)\n",
            "Requirement already satisfied: confection<1.0.0,>=0.0.1 in /usr/local/lib/python3.9/dist-packages (from thinc<8.2.0,>=8.1.8->spacy<3.6.0,>=3.5.0->en-core-web-sm==3.5.0) (0.0.4)\n",
            "Requirement already satisfied: click<9.0.0,>=7.1.1 in /usr/local/lib/python3.9/dist-packages (from typer<0.8.0,>=0.3.0->spacy<3.6.0,>=3.5.0->en-core-web-sm==3.5.0) (8.1.3)\n",
            "Requirement already satisfied: MarkupSafe>=2.0 in /usr/local/lib/python3.9/dist-packages (from jinja2->spacy<3.6.0,>=3.5.0->en-core-web-sm==3.5.0) (2.1.2)\n",
            "\u001b[38;5;2m✔ Download and installation successful\u001b[0m\n",
            "You can now load the package via spacy.load('en_core_web_sm')\n"
          ]
        }
      ],
      "source": [
        "!pip install PyPDF2\n",
        "!pip install -U spacy #latest version\n",
        "!python -m spacy download en_core_web_sm"
      ]
    },
    {
      "cell_type": "code",
      "source": [
        "import PyPDF2\n",
        "import spacy\n",
        "import re\n"
      ],
      "metadata": {
        "id": "Hw99y8FgRpvE"
      },
      "execution_count": null,
      "outputs": []
    },
    {
      "cell_type": "code",
      "source": [
        "# Load the PDF file\n",
        "from google.colab import files\n",
        "uploaded = files.upload()\n",
        "\n",
        "pdf_file = open('resume pdf sample.pdf', 'rb')\n",
        "pdf_reader = PyPDF2.PdfReader(pdf_file)\n"
      ],
      "metadata": {
        "colab": {
          "base_uri": "https://localhost:8080/",
          "height": 73
        },
        "id": "BBAPqpIpW2xV",
        "outputId": "8c7a4762-1f72-4f6a-be10-6becd36e08ff"
      },
      "execution_count": null,
      "outputs": [
        {
          "output_type": "display_data",
          "data": {
            "text/plain": [
              "<IPython.core.display.HTML object>"
            ],
            "text/html": [
              "\n",
              "     <input type=\"file\" id=\"files-91941855-a61f-484d-8512-e0a8d3f846b1\" name=\"files[]\" multiple disabled\n",
              "        style=\"border:none\" />\n",
              "     <output id=\"result-91941855-a61f-484d-8512-e0a8d3f846b1\">\n",
              "      Upload widget is only available when the cell has been executed in the\n",
              "      current browser session. Please rerun this cell to enable.\n",
              "      </output>\n",
              "      <script>// Copyright 2017 Google LLC\n",
              "//\n",
              "// Licensed under the Apache License, Version 2.0 (the \"License\");\n",
              "// you may not use this file except in compliance with the License.\n",
              "// You may obtain a copy of the License at\n",
              "//\n",
              "//      http://www.apache.org/licenses/LICENSE-2.0\n",
              "//\n",
              "// Unless required by applicable law or agreed to in writing, software\n",
              "// distributed under the License is distributed on an \"AS IS\" BASIS,\n",
              "// WITHOUT WARRANTIES OR CONDITIONS OF ANY KIND, either express or implied.\n",
              "// See the License for the specific language governing permissions and\n",
              "// limitations under the License.\n",
              "\n",
              "/**\n",
              " * @fileoverview Helpers for google.colab Python module.\n",
              " */\n",
              "(function(scope) {\n",
              "function span(text, styleAttributes = {}) {\n",
              "  const element = document.createElement('span');\n",
              "  element.textContent = text;\n",
              "  for (const key of Object.keys(styleAttributes)) {\n",
              "    element.style[key] = styleAttributes[key];\n",
              "  }\n",
              "  return element;\n",
              "}\n",
              "\n",
              "// Max number of bytes which will be uploaded at a time.\n",
              "const MAX_PAYLOAD_SIZE = 100 * 1024;\n",
              "\n",
              "function _uploadFiles(inputId, outputId) {\n",
              "  const steps = uploadFilesStep(inputId, outputId);\n",
              "  const outputElement = document.getElementById(outputId);\n",
              "  // Cache steps on the outputElement to make it available for the next call\n",
              "  // to uploadFilesContinue from Python.\n",
              "  outputElement.steps = steps;\n",
              "\n",
              "  return _uploadFilesContinue(outputId);\n",
              "}\n",
              "\n",
              "// This is roughly an async generator (not supported in the browser yet),\n",
              "// where there are multiple asynchronous steps and the Python side is going\n",
              "// to poll for completion of each step.\n",
              "// This uses a Promise to block the python side on completion of each step,\n",
              "// then passes the result of the previous step as the input to the next step.\n",
              "function _uploadFilesContinue(outputId) {\n",
              "  const outputElement = document.getElementById(outputId);\n",
              "  const steps = outputElement.steps;\n",
              "\n",
              "  const next = steps.next(outputElement.lastPromiseValue);\n",
              "  return Promise.resolve(next.value.promise).then((value) => {\n",
              "    // Cache the last promise value to make it available to the next\n",
              "    // step of the generator.\n",
              "    outputElement.lastPromiseValue = value;\n",
              "    return next.value.response;\n",
              "  });\n",
              "}\n",
              "\n",
              "/**\n",
              " * Generator function which is called between each async step of the upload\n",
              " * process.\n",
              " * @param {string} inputId Element ID of the input file picker element.\n",
              " * @param {string} outputId Element ID of the output display.\n",
              " * @return {!Iterable<!Object>} Iterable of next steps.\n",
              " */\n",
              "function* uploadFilesStep(inputId, outputId) {\n",
              "  const inputElement = document.getElementById(inputId);\n",
              "  inputElement.disabled = false;\n",
              "\n",
              "  const outputElement = document.getElementById(outputId);\n",
              "  outputElement.innerHTML = '';\n",
              "\n",
              "  const pickedPromise = new Promise((resolve) => {\n",
              "    inputElement.addEventListener('change', (e) => {\n",
              "      resolve(e.target.files);\n",
              "    });\n",
              "  });\n",
              "\n",
              "  const cancel = document.createElement('button');\n",
              "  inputElement.parentElement.appendChild(cancel);\n",
              "  cancel.textContent = 'Cancel upload';\n",
              "  const cancelPromise = new Promise((resolve) => {\n",
              "    cancel.onclick = () => {\n",
              "      resolve(null);\n",
              "    };\n",
              "  });\n",
              "\n",
              "  // Wait for the user to pick the files.\n",
              "  const files = yield {\n",
              "    promise: Promise.race([pickedPromise, cancelPromise]),\n",
              "    response: {\n",
              "      action: 'starting',\n",
              "    }\n",
              "  };\n",
              "\n",
              "  cancel.remove();\n",
              "\n",
              "  // Disable the input element since further picks are not allowed.\n",
              "  inputElement.disabled = true;\n",
              "\n",
              "  if (!files) {\n",
              "    return {\n",
              "      response: {\n",
              "        action: 'complete',\n",
              "      }\n",
              "    };\n",
              "  }\n",
              "\n",
              "  for (const file of files) {\n",
              "    const li = document.createElement('li');\n",
              "    li.append(span(file.name, {fontWeight: 'bold'}));\n",
              "    li.append(span(\n",
              "        `(${file.type || 'n/a'}) - ${file.size} bytes, ` +\n",
              "        `last modified: ${\n",
              "            file.lastModifiedDate ? file.lastModifiedDate.toLocaleDateString() :\n",
              "                                    'n/a'} - `));\n",
              "    const percent = span('0% done');\n",
              "    li.appendChild(percent);\n",
              "\n",
              "    outputElement.appendChild(li);\n",
              "\n",
              "    const fileDataPromise = new Promise((resolve) => {\n",
              "      const reader = new FileReader();\n",
              "      reader.onload = (e) => {\n",
              "        resolve(e.target.result);\n",
              "      };\n",
              "      reader.readAsArrayBuffer(file);\n",
              "    });\n",
              "    // Wait for the data to be ready.\n",
              "    let fileData = yield {\n",
              "      promise: fileDataPromise,\n",
              "      response: {\n",
              "        action: 'continue',\n",
              "      }\n",
              "    };\n",
              "\n",
              "    // Use a chunked sending to avoid message size limits. See b/62115660.\n",
              "    let position = 0;\n",
              "    do {\n",
              "      const length = Math.min(fileData.byteLength - position, MAX_PAYLOAD_SIZE);\n",
              "      const chunk = new Uint8Array(fileData, position, length);\n",
              "      position += length;\n",
              "\n",
              "      const base64 = btoa(String.fromCharCode.apply(null, chunk));\n",
              "      yield {\n",
              "        response: {\n",
              "          action: 'append',\n",
              "          file: file.name,\n",
              "          data: base64,\n",
              "        },\n",
              "      };\n",
              "\n",
              "      let percentDone = fileData.byteLength === 0 ?\n",
              "          100 :\n",
              "          Math.round((position / fileData.byteLength) * 100);\n",
              "      percent.textContent = `${percentDone}% done`;\n",
              "\n",
              "    } while (position < fileData.byteLength);\n",
              "  }\n",
              "\n",
              "  // All done.\n",
              "  yield {\n",
              "    response: {\n",
              "      action: 'complete',\n",
              "    }\n",
              "  };\n",
              "}\n",
              "\n",
              "scope.google = scope.google || {};\n",
              "scope.google.colab = scope.google.colab || {};\n",
              "scope.google.colab._files = {\n",
              "  _uploadFiles,\n",
              "  _uploadFilesContinue,\n",
              "};\n",
              "})(self);\n",
              "</script> "
            ]
          },
          "metadata": {}
        },
        {
          "output_type": "stream",
          "name": "stdout",
          "text": [
            "Saving resume pdf sample.pdf to resume pdf sample (3).pdf\n"
          ]
        }
      ]
    },
    {
      "cell_type": "code",
      "source": [
        "# Get the total number of pages in the PDF file\n",
        "num_pages = len(pdf_reader.pages) \n",
        "\n",
        "    # Extract text from each page and concatenate them\n",
        "text = ''\n",
        "for page_num in range(num_pages):\n",
        "  page = pdf_reader.pages[page_num] \n",
        "  text += page.extract_text() + '\\n'\n",
        "\n",
        "# Print the extracted text\n",
        "\n",
        "print(text)\n"
      ],
      "metadata": {
        "id": "IJGJy9AjZQDt",
        "colab": {
          "base_uri": "https://localhost:8080/"
        },
        "outputId": "a00513a6-6c91-4bb4-f17d-86d7d29299ef"
      },
      "execution_count": null,
      "outputs": [
        {
          "output_type": "stream",
          "name": "stdout",
          "text": [
            "BELLA TREVINO  \n",
            "CONTACT  \n",
            "bellatrevino@email.com  \n",
            "(123) 456 -7890 \n",
            "Chicago, IL  \n",
            "LinkedIn  \n",
            "EDUCATION  \n",
            "B.S. \n",
            "Computer Science  \n",
            "University of Illinois  \n",
            "Chicago  \n",
            "2016 - 2020 \n",
            "Chicago, IL  \n",
            "GPA: 3.9  \n",
            "Presidential Scholarship  \n",
            "Cum Laude Society  \n",
            "Dean's List (6/8 semesters)  \n",
            "SKILLS  \n",
            "JavaScript (Angular)  \n",
            "HTML/ CSS  \n",
            "Python (Django)  \n",
            "SQL (PostgreSQL, Oracle)  \n",
            "REST APIs Git  \n",
            "WEB DEVELOPER  \n",
            "CAREER OBJECTIVE  \n",
            "Graduate of computer science \n",
            "with experience working across \n",
            "the full -stack of software \n",
            "development. Looking for a role \n",
            "where I can grow and learn from \n",
            "experienced team members w hile \n",
            "drawing on project experience I \n",
            "have already successfully \n",
            "executed.  WORK EXPERIENCE  \n",
            "Web Developer Intern  \n",
            "Book of the Month April 2019 - September 2019 / Chicago, IL  \n",
            "· Developed in -house web app using JavaScript (Angular),  \n",
            "Node, React, and HTML/CSS , Git that allowed employees to manage and \n",
            "recommend books · Gathered user requirements, and built and maintained code \n",
            "for the tool, saving employees 14 monthly hours in labor · Collaborated with 3 \n",
            "interns and senior developer to b rainstorm and implement ideas and feedback \n",
            "into app's development  \n",
            "· Selected as the top performing intern by the technology team  \n",
            "PROJECTS  \n",
            "Social Media Scheduler  \n",
            "Creator  \n",
            "· Built responsive app using Django and Node that allowed users to schedule \n",
            "social media posts across Instagram and Twitter · Built features using scikit -learn \n",
            "in Python that learned the time of day of maximum engagement with social media \n",
            "posts, which increa sed overall engagement rate by 23% for users · Released it \n",
            "for free for University of Illinois Chicago students, and it quickly grew to over 500 \n",
            "monthly active users · Featured across 7 local newspapers, radio stations, and \n",
            "news networks with focus around use of Twitter and Instagram APIs  \n",
            "Computer Science Club  \n",
            "Co-founder April 2017 - April 2020  \n",
            "· Presented a need for a computer science club to student government, obtained \n",
            "club approval, and secured club advisor · Co-founded the computer science club \n",
            "at the University of Illinois Chicago to encourage exchanges among CS students \n",
            "surrounding new concepts and technical problems · Led club members to spend \n",
            "2 hours a week pair programming with another member to share learnings  \n",
            "· Partnered with journalism majors to  attract 35 active members to the club in \n",
            "first year, using web and tv campaigns  \n",
            "\n"
          ]
        }
      ]
    },
    {
      "cell_type": "code",
      "source": [
        "#preprocessing of text\n",
        "# Clean the text\n",
        "text = text.replace('\\n', ' ').replace('\\r', '')\n",
        "\n",
        "print(text)"
      ],
      "metadata": {
        "colab": {
          "base_uri": "https://localhost:8080/"
        },
        "id": "2A3eHZDIcSDJ",
        "outputId": "f29503ff-acf6-4f92-b6e8-3a74e21a5396"
      },
      "execution_count": null,
      "outputs": [
        {
          "output_type": "stream",
          "name": "stdout",
          "text": [
            "BELLA TREVINO   CONTACT   bellatrevino@email.com   (123) 456 -7890  Chicago, IL   LinkedIn   EDUCATION   B.S.  Computer Science   University of Illinois   Chicago   2016 - 2020  Chicago, IL   GPA: 3.9   Presidential Scholarship   Cum Laude Society   Dean's List (6/8 semesters)   SKILLS   JavaScript (Angular)   HTML/ CSS   Python (Django)   SQL (PostgreSQL, Oracle)   REST APIs Git   WEB DEVELOPER   CAREER OBJECTIVE   Graduate of computer science  with experience working across  the full -stack of software  development. Looking for a role  where I can grow and learn from  experienced team members w hile  drawing on project experience I  have already successfully  executed.  WORK EXPERIENCE   Web Developer Intern   Book of the Month April 2019 - September 2019 / Chicago, IL   · Developed in -house web app using JavaScript (Angular),   Node, React, and HTML/CSS , Git that allowed employees to manage and  recommend books · Gathered user requirements, and built and maintained code  for the tool, saving employees 14 monthly hours in labor · Collaborated with 3  interns and senior developer to b rainstorm and implement ideas and feedback  into app's development   · Selected as the top performing intern by the technology team   PROJECTS   Social Media Scheduler   Creator   · Built responsive app using Django and Node that allowed users to schedule  social media posts across Instagram and Twitter · Built features using scikit -learn  in Python that learned the time of day of maximum engagement with social media  posts, which increa sed overall engagement rate by 23% for users · Released it  for free for University of Illinois Chicago students, and it quickly grew to over 500  monthly active users · Featured across 7 local newspapers, radio stations, and  news networks with focus around use of Twitter and Instagram APIs   Computer Science Club   Co-founder April 2017 - April 2020   · Presented a need for a computer science club to student government, obtained  club approval, and secured club advisor · Co-founded the computer science club  at the University of Illinois Chicago to encourage exchanges among CS students  surrounding new concepts and technical problems · Led club members to spend  2 hours a week pair programming with another member to share learnings   · Partnered with journalism majors to  attract 35 active members to the club in  first year, using web and tv campaigns   \n"
          ]
        }
      ]
    },
    {
      "cell_type": "code",
      "source": [
        "# Tokenize the text\n",
        "nlp = spacy.load('en_core_web_sm')\n",
        "\n",
        "doc = nlp(text)\n",
        "\n",
        "tokens = [token.text for token in doc]\n",
        "print(tokens)\n",
        "\n"
      ],
      "metadata": {
        "colab": {
          "base_uri": "https://localhost:8080/"
        },
        "id": "HyOLMN1Petr-",
        "outputId": "72d02e1c-5001-41b9-b08d-5d186d486e42"
      },
      "execution_count": null,
      "outputs": [
        {
          "output_type": "stream",
          "name": "stdout",
          "text": [
            "['BELLA', 'TREVINO', '  ', 'CONTACT', '  ', 'bellatrevino@email.com', '  ', '(', '123', ')', '456', '-7890', ' ', 'Chicago', ',', 'IL', '  ', 'LinkedIn', '  ', 'EDUCATION', '  ', 'B.S.', ' ', 'Computer', 'Science', '  ', 'University', 'of', 'Illinois', '  ', 'Chicago', '  ', '2016', '-', '2020', ' ', 'Chicago', ',', 'IL', '  ', 'GPA', ':', '3.9', '  ', 'Presidential', 'Scholarship', '  ', 'Cum', 'Laude', 'Society', '  ', 'Dean', \"'s\", 'List', '(', '6/8', 'semesters', ')', '  ', 'SKILLS', '  ', 'JavaScript', '(', 'Angular', ')', '  ', 'HTML/', 'CSS', '  ', 'Python', '(', 'Django', ')', '  ', 'SQL', '(', 'PostgreSQL', ',', 'Oracle', ')', '  ', 'REST', 'APIs', 'Git', '  ', 'WEB', 'DEVELOPER', '  ', 'CAREER', 'OBJECTIVE', '  ', 'Graduate', 'of', 'computer', 'science', ' ', 'with', 'experience', 'working', 'across', ' ', 'the', 'full', '-stack', 'of', 'software', ' ', 'development', '.', 'Looking', 'for', 'a', 'role', ' ', 'where', 'I', 'can', 'grow', 'and', 'learn', 'from', ' ', 'experienced', 'team', 'members', 'w', 'hile', ' ', 'drawing', 'on', 'project', 'experience', 'I', ' ', 'have', 'already', 'successfully', ' ', 'executed', '.', ' ', 'WORK', 'EXPERIENCE', '  ', 'Web', 'Developer', 'Intern', '  ', 'Book', 'of', 'the', 'Month', 'April', '2019', '-', 'September', '2019', '/', 'Chicago', ',', 'IL', '  ', '·', 'Developed', 'in', '-house', 'web', 'app', 'using', 'JavaScript', '(', 'Angular', ')', ',', '  ', 'Node', ',', 'React', ',', 'and', 'HTML', '/', 'CSS', ',', 'Git', 'that', 'allowed', 'employees', 'to', 'manage', 'and', ' ', 'recommend', 'books', '·', 'Gathered', 'user', 'requirements', ',', 'and', 'built', 'and', 'maintained', 'code', ' ', 'for', 'the', 'tool', ',', 'saving', 'employees', '14', 'monthly', 'hours', 'in', 'labor', '·', 'Collaborated', 'with', '3', ' ', 'interns', 'and', 'senior', 'developer', 'to', 'b', 'rainstorm', 'and', 'implement', 'ideas', 'and', 'feedback', ' ', 'into', 'app', \"'s\", 'development', '  ', '·', 'Selected', 'as', 'the', 'top', 'performing', 'intern', 'by', 'the', 'technology', 'team', '  ', 'PROJECTS', '  ', 'Social', 'Media', 'Scheduler', '  ', 'Creator', '  ', '·', 'Built', 'responsive', 'app', 'using', 'Django', 'and', 'Node', 'that', 'allowed', 'users', 'to', 'schedule', ' ', 'social', 'media', 'posts', 'across', 'Instagram', 'and', 'Twitter', '·', 'Built', 'features', 'using', 'scikit', '-learn', ' ', 'in', 'Python', 'that', 'learned', 'the', 'time', 'of', 'day', 'of', 'maximum', 'engagement', 'with', 'social', 'media', ' ', 'posts', ',', 'which', 'increa', 'sed', 'overall', 'engagement', 'rate', 'by', '23', '%', 'for', 'users', '·', 'Released', 'it', ' ', 'for', 'free', 'for', 'University', 'of', 'Illinois', 'Chicago', 'students', ',', 'and', 'it', 'quickly', 'grew', 'to', 'over', '500', ' ', 'monthly', 'active', 'users', '·', 'Featured', 'across', '7', 'local', 'newspapers', ',', 'radio', 'stations', ',', 'and', ' ', 'news', 'networks', 'with', 'focus', 'around', 'use', 'of', 'Twitter', 'and', 'Instagram', 'APIs', '  ', 'Computer', 'Science', 'Club', '  ', 'Co', '-', 'founder', 'April', '2017', '-', 'April', '2020', '  ', '·', 'Presented', 'a', 'need', 'for', 'a', 'computer', 'science', 'club', 'to', 'student', 'government', ',', 'obtained', ' ', 'club', 'approval', ',', 'and', 'secured', 'club', 'advisor', '·', 'Co', '-', 'founded', 'the', 'computer', 'science', 'club', ' ', 'at', 'the', 'University', 'of', 'Illinois', 'Chicago', 'to', 'encourage', 'exchanges', 'among', 'CS', 'students', ' ', 'surrounding', 'new', 'concepts', 'and', 'technical', 'problems', '·', 'Led', 'club', 'members', 'to', 'spend', ' ', '2', 'hours', 'a', 'week', 'pair', 'programming', 'with', 'another', 'member', 'to', 'share', 'learnings', '  ', '·', 'Partnered', 'with', 'journalism', 'majors', 'to', ' ', 'attract', '35', 'active', 'members', 'to', 'the', 'club', 'in', ' ', 'first', 'year', ',', 'using', 'web', 'and', 'tv', 'campaigns', '  ']\n"
          ]
        }
      ]
    },
    {
      "cell_type": "code",
      "source": [
        "# Lemmatize the text(grouping)\n",
        "lemmas = [token.lemma_ for token in doc]\n",
        "\n",
        "# Remove stop words\n",
        "filtered_lemmas = [lemma for lemma in lemmas if not nlp.vocab[lemma].is_stop]\n",
        "print(filtered_lemmas)\n",
        "\n",
        "# # Join the remaining words back into a string with spaces instead of commas\n",
        "# text_without_commas = ' '.join(filtered_lemmas)\n",
        "# print(text_without_commas)\n",
        "\n",
        "# Replace parentheses and brackets with an empty string\n",
        "# text_without_parentheses = re.sub('[()]|\\[|\\]', '', ' '.join(text_without_commas))\n",
        "text_without_parentheses = [s.replace(\"(\", \"\").replace(\")\", \"\").replace(\",\", \"\").strip() for s in filtered_lemmas]\n",
        "text_without_parentheses = [x.lower() for x in text_without_parentheses]\n",
        "\n",
        "\n",
        "\n",
        "# Print the result\n",
        "print(text_without_parentheses)\n"
      ],
      "metadata": {
        "colab": {
          "base_uri": "https://localhost:8080/"
        },
        "id": "PVstR-B9pd9n",
        "outputId": "d17949b5-fc26-4584-f679-128b032606f8"
      },
      "execution_count": null,
      "outputs": [
        {
          "output_type": "stream",
          "name": "stdout",
          "text": [
            "['BELLA', 'TREVINO', '  ', 'contact', '  ', 'bellatrevino@email.com', '  ', '(', '123', ')', '456', '-7890', ' ', 'Chicago', ',', 'IL', '  ', 'LinkedIn', '  ', 'EDUCATION', '  ', 'B.S.', ' ', 'Computer', 'Science', '  ', 'University', 'Illinois', '  ', 'Chicago', '  ', '2016', '-', '2020', ' ', 'Chicago', ',', 'IL', '  ', 'GPA', ':', '3.9', '  ', 'Presidential', 'Scholarship', '  ', 'Cum', 'Laude', 'Society', '  ', 'Dean', 'List', '(', '6/8', 'semester', ')', '  ', 'SKILLS', '  ', 'JavaScript', '(', 'Angular', ')', '  ', 'HTML/', 'CSS', '  ', 'Python', '(', 'Django', ')', '  ', 'SQL', '(', 'PostgreSQL', ',', 'Oracle', ')', '  ', 'rest', 'api', 'Git', '  ', 'web', 'developer', '  ', 'career', 'OBJECTIVE', '  ', 'Graduate', 'computer', 'science', ' ', 'experience', 'work', ' ', '-stack', 'software', ' ', 'development', '.', 'look', 'role', ' ', 'grow', 'learn', ' ', 'experienced', 'team', 'member', 'w', 'hile', ' ', 'draw', 'project', 'experience', ' ', 'successfully', ' ', 'execute', '.', ' ', 'work', 'EXPERIENCE', '  ', 'Web', 'Developer', 'Intern', '  ', 'Book', 'Month', 'April', '2019', '-', 'September', '2019', '/', 'Chicago', ',', 'IL', '  ', '·', 'develop', '-house', 'web', 'app', 'use', 'JavaScript', '(', 'Angular', ')', ',', '  ', 'Node', ',', 'React', ',', 'HTML', '/', 'CSS', ',', 'Git', 'allow', 'employee', 'manage', ' ', 'recommend', 'book', '·', 'gather', 'user', 'requirement', ',', 'build', 'maintain', 'code', ' ', 'tool', ',', 'save', 'employee', '14', 'monthly', 'hour', 'labor', '·', 'collaborate', '3', ' ', 'intern', 'senior', 'developer', 'b', 'rainstorm', 'implement', 'idea', 'feedback', ' ', 'app', 'development', '  ', '·', 'select', 'perform', 'intern', 'technology', 'team', '  ', 'PROJECTS', '  ', 'Social', 'Media', 'Scheduler', '  ', 'Creator', '  ', '·', 'build', 'responsive', 'app', 'use', 'Django', 'Node', 'allow', 'user', 'schedule', ' ', 'social', 'medium', 'post', 'Instagram', 'Twitter', '·', 'build', 'feature', 'use', 'scikit', '-learn', ' ', 'Python', 'learn', 'time', 'day', 'maximum', 'engagement', 'social', 'medium', ' ', 'post', ',', 'increa', 'se', 'overall', 'engagement', 'rate', '23', '%', 'user', '·', 'release', ' ', 'free', 'University', 'Illinois', 'Chicago', 'student', ',', 'quickly', 'grow', '500', ' ', 'monthly', 'active', 'user', '·', 'feature', '7', 'local', 'newspaper', ',', 'radio', 'station', ',', ' ', 'news', 'network', 'focus', 'use', 'Twitter', 'Instagram', 'api', '  ', 'Computer', 'Science', 'Club', '  ', 'co', '-', 'founder', 'April', '2017', '-', 'April', '2020', '  ', '·', 'present', 'need', 'computer', 'science', 'club', 'student', 'government', ',', 'obtain', ' ', 'club', 'approval', ',', 'secure', 'club', 'advisor', '·', 'Co', '-', 'found', 'computer', 'science', 'club', ' ', 'University', 'Illinois', 'Chicago', 'encourage', 'exchange', 'CS', 'student', ' ', 'surround', 'new', 'concept', 'technical', 'problem', '·', 'lead', 'club', 'member', 'spend', ' ', '2', 'hour', 'week', 'pair', 'programming', 'member', 'share', 'learning', '  ', '·', 'partner', 'journalism', 'major', ' ', 'attract', '35', 'active', 'member', 'club', ' ', 'year', ',', 'use', 'web', 'tv', 'campaign', '  ']\n",
            "['bella', 'trevino', '', 'contact', '', 'bellatrevino@email.com', '', '', '123', '', '456', '-7890', '', 'chicago', '', 'il', '', 'linkedin', '', 'education', '', 'b.s.', '', 'computer', 'science', '', 'university', 'illinois', '', 'chicago', '', '2016', '-', '2020', '', 'chicago', '', 'il', '', 'gpa', ':', '3.9', '', 'presidential', 'scholarship', '', 'cum', 'laude', 'society', '', 'dean', 'list', '', '6/8', 'semester', '', '', 'skills', '', 'javascript', '', 'angular', '', '', 'html/', 'css', '', 'python', '', 'django', '', '', 'sql', '', 'postgresql', '', 'oracle', '', '', 'rest', 'api', 'git', '', 'web', 'developer', '', 'career', 'objective', '', 'graduate', 'computer', 'science', '', 'experience', 'work', '', '-stack', 'software', '', 'development', '.', 'look', 'role', '', 'grow', 'learn', '', 'experienced', 'team', 'member', 'w', 'hile', '', 'draw', 'project', 'experience', '', 'successfully', '', 'execute', '.', '', 'work', 'experience', '', 'web', 'developer', 'intern', '', 'book', 'month', 'april', '2019', '-', 'september', '2019', '/', 'chicago', '', 'il', '', '·', 'develop', '-house', 'web', 'app', 'use', 'javascript', '', 'angular', '', '', '', 'node', '', 'react', '', 'html', '/', 'css', '', 'git', 'allow', 'employee', 'manage', '', 'recommend', 'book', '·', 'gather', 'user', 'requirement', '', 'build', 'maintain', 'code', '', 'tool', '', 'save', 'employee', '14', 'monthly', 'hour', 'labor', '·', 'collaborate', '3', '', 'intern', 'senior', 'developer', 'b', 'rainstorm', 'implement', 'idea', 'feedback', '', 'app', 'development', '', '·', 'select', 'perform', 'intern', 'technology', 'team', '', 'projects', '', 'social', 'media', 'scheduler', '', 'creator', '', '·', 'build', 'responsive', 'app', 'use', 'django', 'node', 'allow', 'user', 'schedule', '', 'social', 'medium', 'post', 'instagram', 'twitter', '·', 'build', 'feature', 'use', 'scikit', '-learn', '', 'python', 'learn', 'time', 'day', 'maximum', 'engagement', 'social', 'medium', '', 'post', '', 'increa', 'se', 'overall', 'engagement', 'rate', '23', '%', 'user', '·', 'release', '', 'free', 'university', 'illinois', 'chicago', 'student', '', 'quickly', 'grow', '500', '', 'monthly', 'active', 'user', '·', 'feature', '7', 'local', 'newspaper', '', 'radio', 'station', '', '', 'news', 'network', 'focus', 'use', 'twitter', 'instagram', 'api', '', 'computer', 'science', 'club', '', 'co', '-', 'founder', 'april', '2017', '-', 'april', '2020', '', '·', 'present', 'need', 'computer', 'science', 'club', 'student', 'government', '', 'obtain', '', 'club', 'approval', '', 'secure', 'club', 'advisor', '·', 'co', '-', 'found', 'computer', 'science', 'club', '', 'university', 'illinois', 'chicago', 'encourage', 'exchange', 'cs', 'student', '', 'surround', 'new', 'concept', 'technical', 'problem', '·', 'lead', 'club', 'member', 'spend', '', '2', 'hour', 'week', 'pair', 'programming', 'member', 'share', 'learning', '', '·', 'partner', 'journalism', 'major', '', 'attract', '35', 'active', 'member', 'club', '', 'year', '', 'use', 'web', 'tv', 'campaign', '']\n"
          ]
        }
      ]
    },
    {
      "cell_type": "code",
      "source": [
        "# Identify keywords\n",
        "keywords = []\n",
        "# for chunk in doc.noun_chunks:\n",
        "#     keywords.append(chunk.text)\n",
        "for text in text_without_parentheses:\n",
        "  keywords.append(text)\n",
        "print(keywords)\n",
        "\n",
        "# Match the keywords with the job requirements\n",
        "\n",
        "job_requirements = ['python','NodeJS', 'JavaScript', 'HTML/CSS','Git','React','agile','waterfall','Devops']\n",
        "job_requirements_lower = [x.lower() for x in job_requirements]\n",
        "\n",
        "\n",
        "print(job_requirements_lower)\n",
        "\n",
        "  "
      ],
      "metadata": {
        "colab": {
          "base_uri": "https://localhost:8080/"
        },
        "id": "TXBbzp-RqoEI",
        "outputId": "1ecbcced-9260-4235-8560-a0b5bc88124b"
      },
      "execution_count": null,
      "outputs": [
        {
          "output_type": "stream",
          "name": "stdout",
          "text": [
            "['bella', 'trevino', '', 'contact', '', 'bellatrevino@email.com', '', '', '123', '', '456', '-7890', '', 'chicago', '', 'il', '', 'linkedin', '', 'education', '', 'b.s.', '', 'computer', 'science', '', 'university', 'illinois', '', 'chicago', '', '2016', '-', '2020', '', 'chicago', '', 'il', '', 'gpa', ':', '3.9', '', 'presidential', 'scholarship', '', 'cum', 'laude', 'society', '', 'dean', 'list', '', '6/8', 'semester', '', '', 'skills', '', 'javascript', '', 'angular', '', '', 'html/', 'css', '', 'python', '', 'django', '', '', 'sql', '', 'postgresql', '', 'oracle', '', '', 'rest', 'api', 'git', '', 'web', 'developer', '', 'career', 'objective', '', 'graduate', 'computer', 'science', '', 'experience', 'work', '', '-stack', 'software', '', 'development', '.', 'look', 'role', '', 'grow', 'learn', '', 'experienced', 'team', 'member', 'w', 'hile', '', 'draw', 'project', 'experience', '', 'successfully', '', 'execute', '.', '', 'work', 'experience', '', 'web', 'developer', 'intern', '', 'book', 'month', 'april', '2019', '-', 'september', '2019', '/', 'chicago', '', 'il', '', '·', 'develop', '-house', 'web', 'app', 'use', 'javascript', '', 'angular', '', '', '', 'node', '', 'react', '', 'html', '/', 'css', '', 'git', 'allow', 'employee', 'manage', '', 'recommend', 'book', '·', 'gather', 'user', 'requirement', '', 'build', 'maintain', 'code', '', 'tool', '', 'save', 'employee', '14', 'monthly', 'hour', 'labor', '·', 'collaborate', '3', '', 'intern', 'senior', 'developer', 'b', 'rainstorm', 'implement', 'idea', 'feedback', '', 'app', 'development', '', '·', 'select', 'perform', 'intern', 'technology', 'team', '', 'projects', '', 'social', 'media', 'scheduler', '', 'creator', '', '·', 'build', 'responsive', 'app', 'use', 'django', 'node', 'allow', 'user', 'schedule', '', 'social', 'medium', 'post', 'instagram', 'twitter', '·', 'build', 'feature', 'use', 'scikit', '-learn', '', 'python', 'learn', 'time', 'day', 'maximum', 'engagement', 'social', 'medium', '', 'post', '', 'increa', 'se', 'overall', 'engagement', 'rate', '23', '%', 'user', '·', 'release', '', 'free', 'university', 'illinois', 'chicago', 'student', '', 'quickly', 'grow', '500', '', 'monthly', 'active', 'user', '·', 'feature', '7', 'local', 'newspaper', '', 'radio', 'station', '', '', 'news', 'network', 'focus', 'use', 'twitter', 'instagram', 'api', '', 'computer', 'science', 'club', '', 'co', '-', 'founder', 'april', '2017', '-', 'april', '2020', '', '·', 'present', 'need', 'computer', 'science', 'club', 'student', 'government', '', 'obtain', '', 'club', 'approval', '', 'secure', 'club', 'advisor', '·', 'co', '-', 'found', 'computer', 'science', 'club', '', 'university', 'illinois', 'chicago', 'encourage', 'exchange', 'cs', 'student', '', 'surround', 'new', 'concept', 'technical', 'problem', '·', 'lead', 'club', 'member', 'spend', '', '2', 'hour', 'week', 'pair', 'programming', 'member', 'share', 'learning', '', '·', 'partner', 'journalism', 'major', '', 'attract', '35', 'active', 'member', 'club', '', 'year', '', 'use', 'web', 'tv', 'campaign', '']\n",
            "['python', 'nodejs', 'javascript', 'html/css', 'git', 'react', 'agile', 'waterfall', 'devops']\n"
          ]
        }
      ]
    },
    {
      "cell_type": "code",
      "source": [
        "matches = set(keywords) & set(job_requirements_lower)\n",
        "print(matches)"
      ],
      "metadata": {
        "colab": {
          "base_uri": "https://localhost:8080/"
        },
        "id": "n_aRfKYbAXBc",
        "outputId": "4578b1f4-1612-407b-cdea-4c5e36b61db1"
      },
      "execution_count": null,
      "outputs": [
        {
          "output_type": "stream",
          "name": "stdout",
          "text": [
            "{'git', 'python', 'react', 'javascript'}\n"
          ]
        }
      ]
    },
    {
      "cell_type": "code",
      "source": [
        "# Create a score\n",
        "score = len(matches)\n",
        "print(score)"
      ],
      "metadata": {
        "colab": {
          "base_uri": "https://localhost:8080/"
        },
        "id": "rk8h4dhf_xGk",
        "outputId": "53aced5b-1088-4224-b273-af96afa08896"
      },
      "execution_count": null,
      "outputs": [
        {
          "output_type": "stream",
          "name": "stdout",
          "text": [
            "4\n"
          ]
        }
      ]
    }
  ]
}